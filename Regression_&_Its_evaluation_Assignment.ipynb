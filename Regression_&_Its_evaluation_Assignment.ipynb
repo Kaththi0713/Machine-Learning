{
  "nbformat": 4,
  "nbformat_minor": 0,
  "metadata": {
    "colab": {
      "provenance": []
    },
    "kernelspec": {
      "name": "python3",
      "display_name": "Python 3"
    },
    "language_info": {
      "name": "python"
    }
  },
  "cells": [
    {
      "cell_type": "markdown",
      "source": [
        "**Question 1:** What is Simple Linear Regression?"
      ],
      "metadata": {
        "id": "AkXH3QJdTgbP"
      }
    },
    {
      "cell_type": "markdown",
      "source": [
        "Simple Linear Regression (SLR) is a statistical technique used to model and analyze the relationship between two variables:\n",
        "\n",
        "**Independent variable (X):** the predictor or input variable\n",
        "\n",
        "**Dependent variable (Y):** the response or output variable\n",
        "\n",
        "The relationship is expressed using a straight-line equation:\n",
        "\n",
        "* 𝑌 = 𝛽0 + 𝛽1𝑋 + 𝜖\n",
        "\n",
        "where:\n",
        "\n",
        "* 𝛽0 = intercept (value of Y when X = 0)\n",
        "\n",
        "* 𝛽1 = slope (change in Y for a one-unit change in X)\n",
        "\n",
        "* 𝜖 = error term (difference between observed and predicted values)\n",
        "\n",
        "The goal of SLR is to find the best-fitting line through the data points that minimizes the sum of squared differences between observed and predicted values.\n",
        "\n",
        "* In practice, it is widely used for prediction (e.g., predicting sales from advertising spend) and for understanding the strength and direction of a linear relationship between two variables."
      ],
      "metadata": {
        "id": "aPpGofDCT7He"
      }
    },
    {
      "cell_type": "markdown",
      "source": [
        "**Question 2:** What are the key assumptions of Simple Linear Regression?"
      ],
      "metadata": {
        "id": "5SiZVJr-TgXv"
      }
    },
    {
      "cell_type": "markdown",
      "source": [
        "Simple Linear Regression (SLR) relies on several key assumptions to ensure valid and reliable results:\n",
        "\n",
        "* Linearity – The relationship between the independent variable (X) and dependent variable (Y) is linear.\n",
        "\n",
        "* Independence of errors – Residuals (errors) are independent of each other.\n",
        "\n",
        "* Homoscedasticity – The variance of residuals is constant across all values of X (no heteroscedasticity).\n",
        "\n",
        "* Normality of errors – Residuals should be approximately normally distributed, especially important for hypothesis testing.\n",
        "\n",
        "* No major outliers – Extreme data points should not overly influence the regression line.\n",
        "\n",
        "When these assumptions are met, the regression model produces unbiased and reliable estimates."
      ],
      "metadata": {
        "id": "XhhX9IXAXU5g"
      }
    },
    {
      "cell_type": "markdown",
      "source": [
        "**Question 3:** What is heteroscedasticity, and why is it important to address in regression models?"
      ],
      "metadata": {
        "id": "eFBkxajITgUg"
      }
    },
    {
      "cell_type": "markdown",
      "source": [
        "Heteroscedasticity occurs when the variance of residuals (errors) in a regression model is not constant across all levels of the independent variable(s).\n",
        "\n",
        "Instead of having errors that are spread evenly (homoscedasticity), the spread of errors changes—either increasing or decreasing with the value of X.\n",
        "\n",
        "**Why it matters:**\n",
        "\n",
        "* It violates regression assumptions, making the model less reliable.\n",
        "\n",
        "* Standard errors of coefficients become biased, leading to invalid t-tests and confidence intervals.\n",
        "\n",
        "* The model may incorrectly estimate the significance of predictors, causing misleading conclusions.\n",
        "\n",
        "**How to address it:**\n",
        "\n",
        "* Apply transformations (e.g., log, square root) to stabilize variance.\n",
        "\n",
        "* Use Weighted Least Squares or robust standard errors.\n",
        "\n",
        "In short, addressing heteroscedasticity ensures more accurate, trustworthy regression results."
      ],
      "metadata": {
        "id": "-nwwK0s5Y_vW"
      }
    },
    {
      "cell_type": "markdown",
      "source": [
        "**Question 4:** What is Multiple Linear Regression?"
      ],
      "metadata": {
        "id": "3NBrwIDLTgR8"
      }
    },
    {
      "cell_type": "markdown",
      "source": [
        "Multiple Linear Regression (MLR) is a statistical technique used to model the relationship between a dependent variable (Y) and two or more independent variables (X₁, X₂, …, Xn).\n",
        "\n",
        "The general equation is:\n",
        "\n",
        "* 𝑌 = 𝛽0 + 𝛽1𝑋1 + 𝛽2𝑋2 + ⋯ + 𝛽𝑛𝑋𝑛 + 𝜖\n",
        "\n",
        "where:\n",
        "\n",
        "* 𝛽0 = intercept\n",
        "\n",
        "* 𝛽1,𝛽2,…,𝛽𝑛 = coefficients (effect of each predictor on Y)\n",
        "\n",
        "* 𝜖 = error term\n",
        "\n",
        "**Key points:**\n",
        "\n",
        "* It helps understand how multiple factors jointly influence the outcome.\n",
        "\n",
        "* Useful for prediction (e.g., predicting house prices using area, number of rooms, and location).\n",
        "\n",
        "* Assumes linearity, independence, homoscedasticity, normality of residuals, and low multicollinearity among predictors.\n",
        "\n",
        "In simple terms, MLR extends simple linear regression by considering multiple predictors instead of just one."
      ],
      "metadata": {
        "id": "M16u2k9UZ74D"
      }
    },
    {
      "cell_type": "markdown",
      "source": [
        "**Question 5:** What is polynomial regression, and how does it differ from linear regression?"
      ],
      "metadata": {
        "id": "s0KVRY58TgPQ"
      }
    },
    {
      "cell_type": "markdown",
      "source": [
        "Polynomial Regression is a type of regression analysis where the relationship between the independent variable (X) and the dependent variable (Y) is modeled as an nth-degree polynomial.\n",
        "\n",
        "The general form is:\n",
        "\n",
        "* 𝑌 = 𝛽0 +𝛽1𝑋 + 𝛽2𝑋2 + 𝛽3𝑋3 + ⋯ + 𝛽𝑛𝑋𝑛 + 𝜖\n",
        "\n",
        "**Difference from Linear Regression:**\n",
        "\n",
        "Linear Regression assumes a straight-line relationship:\n",
        "\n",
        "* 𝑌 = 𝛽0 + 𝛽1𝑋 + 𝜖\n",
        "\n",
        "It captures only linear trends.\n",
        "\n",
        "Polynomial Regression allows for curved relationships by including higher-degree terms of X (like 𝑋2,𝑋3), making it suitable for data that shows non-linear patterns.\n",
        "\n",
        "**Example:**\n",
        "\n",
        "*Linear regression:* Predicting weight from height (straight-line relation).\n",
        "\n",
        "*Polynomial regression:* Predicting growth rate of plants over time, where growth accelerates and then slows down (curved relation).\n",
        "\n",
        "In short, polynomial regression is an extension of linear regression that can fit non-linear patterns while still being linear in its coefficients."
      ],
      "metadata": {
        "id": "cjTXTT7EdDWS"
      }
    },
    {
      "cell_type": "markdown",
      "source": [
        "**Question 6:** Implement a Python program to fit a Simple Linear Regression model to the following sample data:\n",
        "\n",
        "● X = [1, 2, 3, 4, 5]\n",
        "\n",
        "● Y = [2.1, 4.3, 6.1, 7.9, 10.2]\n",
        "\n",
        "Plot the regression line over the data points."
      ],
      "metadata": {
        "id": "a6ZvTg7xTgMs"
      }
    },
    {
      "cell_type": "code",
      "source": [
        "# Import libraries\n",
        "import numpy as np\n",
        "import matplotlib.pyplot as plt\n",
        "from sklearn.linear_model import LinearRegression\n",
        "\n",
        "# Sample Data\n",
        "X = np.array([1, 2, 3, 4, 5]).reshape(-1,1)  # Independent variable\n",
        "Y = np.array([2.1, 4.3, 6.1, 7.9, 10.2])     # Dependent variable\n",
        "\n",
        "# Create and train the model\n",
        "model = LinearRegression()\n",
        "model.fit(X, Y)\n",
        "\n",
        "# Predictions\n",
        "Y_pred = model.predict(X)\n",
        "\n",
        "# Print coefficients\n",
        "print(\"Intercept (β0):\", model.intercept_)\n",
        "print(\"Slope (β1):\", model.coef_[0])\n",
        "\n",
        "# Plot data points and regression line\n",
        "plt.scatter(X, Y, color='blue', label='Actual Data')\n",
        "plt.plot(X, Y_pred, color='red', label='Regression Line')\n",
        "plt.xlabel(\"X\")\n",
        "plt.ylabel(\"Y\")\n",
        "plt.title(\"Simple Linear Regression\")\n",
        "plt.legend()\n",
        "plt.show()"
      ],
      "metadata": {
        "colab": {
          "base_uri": "https://localhost:8080/",
          "height": 507
        },
        "id": "FzwGqAzseSa_",
        "outputId": "88637ece-c7dd-4dbd-f831-a574730b8555"
      },
      "execution_count": 1,
      "outputs": [
        {
          "output_type": "stream",
          "name": "stdout",
          "text": [
            "Intercept (β0): 0.17999999999999794\n",
            "Slope (β1): 1.9800000000000004\n"
          ]
        },
        {
          "output_type": "display_data",
          "data": {
            "text/plain": [
              "<Figure size 640x480 with 1 Axes>"
            ],
            "image/png": "[encoded data removed]"
          },
          "metadata": {}
        }
      ]
    },
    {
      "cell_type": "markdown",
      "source": [
        "**Question 7:** Fit a Multiple Linear Regression model on this sample data:\n",
        "\n",
        "● Area = [1200, 1500, 1800, 2000]\n",
        "\n",
        "● Rooms = [2, 3, 3, 4]\n",
        "\n",
        "● Price = [250000, 300000, 320000, 370000]\n",
        "\n",
        "Check for multicollinearity using VIF and report the results."
      ],
      "metadata": {
        "id": "vm8BK4-wTgJ6"
      }
    },
    {
      "cell_type": "code",
      "source": [
        "# Import libraries\n",
        "import pandas as pd\n",
        "import numpy as np\n",
        "from sklearn.linear_model import LinearRegression\n",
        "import statsmodels.api as sm\n",
        "from statsmodels.stats.outliers_influence import variance_inflation_factor\n",
        "\n",
        "# Sample Data\n",
        "data = pd.DataFrame({\n",
        "    'Area': [1200, 1500, 1800, 2000],\n",
        "    'Rooms': [2, 3, 3, 4],\n",
        "    'Price': [250000, 300000, 320000, 370000]\n",
        "})\n",
        "\n",
        "# Define predictors (X) and target (y)\n",
        "X = data[['Area', 'Rooms']]\n",
        "y = data['Price']\n",
        "\n",
        "# Fit Multiple Linear Regression\n",
        "model = LinearRegression()\n",
        "model.fit(X, y)\n",
        "\n",
        "# Predictions\n",
        "y_pred = model.predict(X)\n",
        "\n",
        "# Print coefficients\n",
        "print(\"Intercept (β0):\", model.intercept_)\n",
        "print(\"Coefficients (β):\", model.coef_)\n",
        "\n",
        "# Check VIF for multicollinearity\n",
        "X_const = sm.add_constant(X)  # add intercept term for statsmodels\n",
        "vif_data = pd.DataFrame()\n",
        "vif_data[\"Feature\"] = X_const.columns\n",
        "vif_data[\"VIF\"] = [variance_inflation_factor(X_const.values, i)\n",
        "                   for i in range(X_const.shape[1])]\n",
        "\n",
        "print(\"\\nVariance Inflation Factor (VIF):\")\n",
        "print(vif_data)"
      ],
      "metadata": {
        "colab": {
          "base_uri": "https://localhost:8080/"
        },
        "id": "o98joNpbewC8",
        "outputId": "16ce08d6-d6f1-43f9-e4ef-7fdec2e2ac08"
      },
      "execution_count": 2,
      "outputs": [
        {
          "output_type": "stream",
          "name": "stdout",
          "text": [
            "Intercept (β0): 103157.89473684214\n",
            "Coefficients (β): [   63.15789474 34736.84210526]\n",
            "\n",
            "Variance Inflation Factor (VIF):\n",
            "  Feature        VIF\n",
            "0   const  34.210526\n",
            "1    Area   7.736842\n",
            "2   Rooms   7.736842\n"
          ]
        }
      ]
    },
    {
      "cell_type": "markdown",
      "source": [
        "**Question 8:** Implement polynomial regression on the following data:\n",
        "\n",
        "● X = [1, 2, 3, 4, 5]\n",
        "\n",
        "● Y = [2.2, 4.8, 7.5, 11.2, 14.7]\n",
        "\n",
        "Fit a 2nd-degree polynomial and plot the resulting curve."
      ],
      "metadata": {
        "id": "H_ZgYLCOTf_G"
      }
    },
    {
      "cell_type": "code",
      "execution_count": 3,
      "metadata": {
        "colab": {
          "base_uri": "https://localhost:8080/",
          "height": 507
        },
        "id": "Xjv3RUFZRerq",
        "outputId": "13dc7fe4-ba76-4d3f-ab25-548f71d6d322"
      },
      "outputs": [
        {
          "output_type": "stream",
          "name": "stdout",
          "text": [
            "Intercept (β0): 0.06000000000000938\n",
            "Coefficients (β1, β2): [0.   1.94 0.2 ]\n"
          ]
        },
        {
          "output_type": "display_data",
          "data": {
            "text/plain": [
              "<Figure size 640x480 with 1 Axes>"
            ],
            "image/png": "[encoded data removed]"
          },
          "metadata": {}
        }
      ],
      "source": [
        "# Import libraries\n",
        "import numpy as np\n",
        "import matplotlib.pyplot as plt\n",
        "from sklearn.linear_model import LinearRegression\n",
        "from sklearn.preprocessing import PolynomialFeatures\n",
        "\n",
        "# Sample Data\n",
        "X = np.array([1, 2, 3, 4, 5]).reshape(-1,1)\n",
        "Y = np.array([2.2, 4.8, 7.5, 11.2, 14.7])\n",
        "\n",
        "# Transform features for polynomial regression (degree 2)\n",
        "poly = PolynomialFeatures(degree=2)\n",
        "X_poly = poly.fit_transform(X)\n",
        "\n",
        "# Fit model\n",
        "model = LinearRegression()\n",
        "model.fit(X_poly, Y)\n",
        "\n",
        "# Predictions\n",
        "Y_pred = model.predict(X_poly)\n",
        "\n",
        "# Print coefficients\n",
        "print(\"Intercept (β0):\", model.intercept_)\n",
        "print(\"Coefficients (β1, β2):\", model.coef_)\n",
        "\n",
        "# Plot\n",
        "plt.scatter(X, Y, color='blue', label='Actual Data')\n",
        "plt.plot(X, Y_pred, color='red', label='Polynomial Fit (degree 2)')\n",
        "plt.xlabel(\"X\")\n",
        "plt.ylabel(\"Y\")\n",
        "plt.title(\"Polynomial Regression (Degree 2)\")\n",
        "plt.legend()\n",
        "plt.show()"
      ]
    },
    {
      "cell_type": "markdown",
      "source": [
        "**Question 9:** Create a residuals plot for a regression model trained on this data:\n",
        "\n",
        "● X = [10, 20, 30, 40, 50]\n",
        "\n",
        "● Y = [15, 35, 40, 50, 65]\n",
        "\n",
        "Assess heteroscedasticity by examining the spread of residuals.\n",
        "(Include your Python code and output in the code box below.)"
      ],
      "metadata": {
        "id": "wkr6_J16gak8"
      }
    },
    {
      "cell_type": "code",
      "source": [
        "# Import libraries\n",
        "import numpy as np\n",
        "import matplotlib.pyplot as plt\n",
        "from sklearn.linear_model import LinearRegression\n",
        "\n",
        "# Sample Data\n",
        "X = np.array([10, 20, 30, 40, 50]).reshape(-1,1)\n",
        "Y = np.array([15, 35, 40, 50, 65])\n",
        "\n",
        "# Fit Simple Linear Regression\n",
        "model = LinearRegression()\n",
        "model.fit(X, Y)\n",
        "\n",
        "# Predictions\n",
        "Y_pred = model.predict(X)\n",
        "\n",
        "# Residuals\n",
        "residuals = Y - Y_pred\n",
        "\n",
        "# Print model details\n",
        "print(\"Intercept (β0):\", model.intercept_)\n",
        "print(\"Slope (β1):\", model.coef_[0])\n",
        "print(\"Residuals:\", residuals)\n",
        "\n",
        "# Residual Plot\n",
        "plt.scatter(X, residuals, color='purple')\n",
        "plt.axhline(y=0, color='red', linestyle='--')\n",
        "plt.xlabel(\"X\")\n",
        "plt.ylabel(\"Residuals\")\n",
        "plt.title(\"Residual Plot\")\n",
        "plt.show()"
      ],
      "metadata": {
        "colab": {
          "base_uri": "https://localhost:8080/",
          "height": 524
        },
        "id": "kvxRkXjpgYzk",
        "outputId": "1e4d0edf-db09-4cee-d478-c9aa47c0b682"
      },
      "execution_count": 4,
      "outputs": [
        {
          "output_type": "stream",
          "name": "stdout",
          "text": [
            "Intercept (β0): 6.499999999999993\n",
            "Slope (β1): 1.1500000000000001\n",
            "Residuals: [-3.   5.5 -1.  -2.5  1. ]\n"
          ]
        },
        {
          "output_type": "display_data",
          "data": {
            "text/plain": [
              "<Figure size 640x480 with 1 Axes>"
            ],
            "image/png": "[encoded data removed]"
          },
          "metadata": {}
        }
      ]
    },
    {
      "cell_type": "markdown",
      "source": [
        "**Question 10:** Imagine you are a data scientist working for a real estate company. You need to predict house prices using features like area, number of rooms, and location. However, you detect heteroscedasticity and multicollinearity in your regression model. Explain the steps you would take to address these issues and ensure a robust model."
      ],
      "metadata": {
        "id": "20a1DQOnhIRU"
      }
    },
    {
      "cell_type": "markdown",
      "source": [
        "As a data scientist building a house price prediction model with features like area, number of rooms, and location, encountering heteroscedasticity and multicollinearity can reduce the reliability of regression results.\n",
        "\n",
        "1. Detecting Issues\n",
        "\n",
        "Heteroscedasticity: Use residual plots, Breusch–Pagan test, or White’s test.\n",
        "\n",
        "Multicollinearity: Check correlation matrix and compute Variance Inflation Factor (VIF).\n",
        "\n",
        "2. Addressing Heteroscedasticity\n",
        "\n",
        "Data Transformation: Apply log, square root, or Box-Cox transformations on the dependent variable (house price) to stabilize variance.\n",
        "\n",
        "Weighted Least Squares (WLS): Assign weights inversely proportional to variance of residuals.\n",
        "\n",
        "Robust Standard Errors: Use heteroscedasticity-consistent standard errors (e.g., HC3 in statsmodels).\n",
        "\n",
        "3. Addressing Multicollinearity\n",
        "\n",
        "Feature Selection: Remove or combine highly correlated variables (e.g., area and number of rooms often overlap).\n",
        "\n",
        "Regularization: Use Ridge or Lasso regression, which shrink coefficients and reduce multicollinearity impact.\n",
        "\n",
        "Dimensionality Reduction: Apply Principal Component Analysis (PCA) to create uncorrelated components.\n",
        "\n",
        "4. Building a Robust Model\n",
        "\n",
        "Refit the regression after adjustments.\n",
        "\n",
        "Validate assumptions again (check residuals and VIF).\n",
        "\n",
        "Use cross-validation to ensure generalization.\n",
        "\n",
        "Compare performance with alternative models (e.g., Decision Trees, Random Forests) if linear regression still underperforms.\n",
        "\n",
        "**In summary:**\n",
        "\n",
        "Handle heteroscedasticity with transformations, WLS, or robust errors.\n",
        "\n",
        "Handle multicollinearity with feature selection, regularization, or PCA.\n",
        "\n",
        "This ensures the model produces accurate predictions and reliable inference for decision-making."
      ],
      "metadata": {
        "id": "iIG1xPX9hYfI"
      }
    }
  ]
}